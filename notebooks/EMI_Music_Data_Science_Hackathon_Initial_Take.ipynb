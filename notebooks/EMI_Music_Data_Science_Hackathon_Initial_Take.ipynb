{
 "cells": [
  {
   "cell_type": "code",
   "execution_count": 31,
   "metadata": {
    "collapsed": true
   },
   "outputs": [],
   "source": [
    "%matplotlib inline\n",
    "\n",
    "import numpy as np\n",
    "import pandas as pd\n",
    "import os\n",
    "\n",
    "import matplotlib.pyplot as plt\n",
    "import seaborn as sns\n",
    "\n",
    "from sklearn.cross_validation import cross_val_score, KFold, train_test_split\n",
    "from sklearn.metrics import mean_squared_error\n",
    "\n",
    "import warnings\n",
    "warnings.filterwarnings('ignore')\n",
    "\n",
    "DATA_DIR = '../data/raw/'\n",
    "\n",
    "np.random.seed(1234)"
   ]
  },
  {
   "cell_type": "code",
   "execution_count": 6,
   "metadata": {
    "collapsed": false
   },
   "outputs": [],
   "source": [
    "# load files\n",
    "train = pd.read_csv(os.path.join(DATA_DIR, 'train.csv'))\n",
    "test = pd.read_csv(os.path.join(DATA_DIR, 'test.csv'))\n",
    "words = pd.read_csv(os.path.join(DATA_DIR, 'words.csv'), encoding='ISO-8859-1')\n",
    "users = pd.read_csv(os.path.join(DATA_DIR, 'users.csv'))"
   ]
  },
  {
   "cell_type": "markdown",
   "metadata": {},
   "source": [
    "### Check to see the representation of artists and users in the training and test set.\n",
    "\n",
    "This would help us to construct our cross-validation scheme."
   ]
  },
  {
   "cell_type": "code",
   "execution_count": 11,
   "metadata": {
    "collapsed": false
   },
   "outputs": [
    {
     "data": {
      "text/plain": [
       "50"
      ]
     },
     "execution_count": 11,
     "metadata": {},
     "output_type": "execute_result"
    }
   ],
   "source": [
    "# Number of artists that are present both in training as well as test set.\n",
    "len(set(train.Artist.unique()) & set(test.Artist.unique()))"
   ]
  },
  {
   "cell_type": "code",
   "execution_count": 12,
   "metadata": {
    "collapsed": false
   },
   "outputs": [
    {
     "data": {
      "text/plain": [
       "44643"
      ]
     },
     "execution_count": 12,
     "metadata": {},
     "output_type": "execute_result"
    }
   ],
   "source": [
    "# Number of users that are present both in training and test set\n",
    "len(set(train.User.unique()) & set(test.User.unique()))"
   ]
  },
  {
   "cell_type": "code",
   "execution_count": 15,
   "metadata": {
    "collapsed": false
   },
   "outputs": [
    {
     "name": "stdout",
     "output_type": "stream",
     "text": [
      "Number of unique users in the training set: 49479\n",
      "Number of unique users in the test set: 46092\n"
     ]
    }
   ],
   "source": [
    "print('Number of unique users in the training set: %d'%(len(train.User.unique())))\n",
    "print('Number of unique users in the test set: %d'%(len(test.User.unique())))"
   ]
  },
  {
   "cell_type": "code",
   "execution_count": 16,
   "metadata": {
    "collapsed": false
   },
   "outputs": [
    {
     "name": "stdout",
     "output_type": "stream",
     "text": [
      "Number of users that are in the test set but not in the training set: 1449\n"
     ]
    }
   ],
   "source": [
    "new_users = len(set(test.User.unique()) - set(train.User.unique()))\n",
    "print('Number of users that are in the test set but not in the training set: %d'%(new_users))"
   ]
  },
  {
   "cell_type": "code",
   "execution_count": 18,
   "metadata": {
    "collapsed": false
   },
   "outputs": [
    {
     "name": "stdout",
     "output_type": "stream",
     "text": [
      "Number of (artist, user) pair in training and test set are: 116439\n"
     ]
    }
   ],
   "source": [
    "# Lets look at the (artist, user) pair that are in training and test set\n",
    "def check_membership(artist, user):\n",
    "    return int(test.loc[(test.Artist == artist) & (test.User == user)].shape[0] != 0)\n",
    "\n",
    "def count_pairs():\n",
    "    pairs = 0\n",
    "    for artist, user in zip(train.Artist, train.User):\n",
    "        pairs += check_membership(artist, user)\n",
    "    \n",
    "    return pairs\n",
    "\n",
    "common_pairs = count_pairs()\n",
    "print('Number of (artist, user) pair in training and test set are: %d'%(common_pairs))"
   ]
  },
  {
   "cell_type": "code",
   "execution_count": 23,
   "metadata": {
    "collapsed": true
   },
   "outputs": [],
   "source": [
    "artist_user_mean_ratings = train.groupby(['Artist', 'User'])['Rating'].mean().to_dict()"
   ]
  },
  {
   "cell_type": "code",
   "execution_count": 33,
   "metadata": {
    "collapsed": true
   },
   "outputs": [],
   "source": [
    "mean_rating = train.Rating.mean() # mean rating irrespective of artist and user information."
   ]
  },
  {
   "cell_type": "markdown",
   "metadata": {},
   "source": [
    "** Since there is good amount of (artist, user) pair in the test set which are in the training set, we could create a normal KFold Cross validation set which would be representative of the test set. **"
   ]
  },
  {
   "cell_type": "code",
   "execution_count": 30,
   "metadata": {
    "collapsed": false
   },
   "outputs": [],
   "source": [
    "features = ['Artist', 'User'] # only consider these two features for now.\n",
    "\n",
    "X = train[features]\n",
    "y = train.Rating"
   ]
  },
  {
   "cell_type": "code",
   "execution_count": 32,
   "metadata": {
    "collapsed": true
   },
   "outputs": [],
   "source": [
    "X_train, X_test, y_train, y_test = train_test_split(X, y, test_size=0.2, random_state=1324)"
   ]
  },
  {
   "cell_type": "code",
   "execution_count": 35,
   "metadata": {
    "collapsed": false
   },
   "outputs": [],
   "source": [
    "def basic_model(row):\n",
    "    artist = row['Artist']\n",
    "    user = row['User']\n",
    "    \n",
    "    if (artist, user) in artist_user_mean_ratings:\n",
    "        return artist_user_mean_ratings[(artist, user)]\n",
    "    else:\n",
    "        return mean_rating\n",
    "    \n",
    "y_preds = X_test.apply(basic_model, axis=1)"
   ]
  },
  {
   "cell_type": "code",
   "execution_count": 38,
   "metadata": {
    "collapsed": false
   },
   "outputs": [
    {
     "name": "stdout",
     "output_type": "stream",
     "text": [
      "RMSE on the test set: 8.123730\n"
     ]
    }
   ],
   "source": [
    "rmse = np.sqrt(mean_squared_error(y_test, y_preds))\n",
    "print('RMSE on the test set: %f'%(rmse))"
   ]
  },
  {
   "cell_type": "markdown",
   "metadata": {},
   "source": [
    "### Basic Model\n",
    "\n",
    "<p>Lookup the mean rating for (artist, user) which exist in the training set, for those pairs which are not in the training set return mean rating as the prediction</p>"
   ]
  },
  {
   "cell_type": "code",
   "execution_count": null,
   "metadata": {
    "collapsed": true
   },
   "outputs": [],
   "source": []
  }
 ],
 "metadata": {
  "kernelspec": {
   "display_name": "Python [Root]",
   "language": "python",
   "name": "Python [Root]"
  },
  "language_info": {
   "codemirror_mode": {
    "name": "ipython",
    "version": 3
   },
   "file_extension": ".py",
   "mimetype": "text/x-python",
   "name": "python",
   "nbconvert_exporter": "python",
   "pygments_lexer": "ipython3",
   "version": "3.5.2"
  }
 },
 "nbformat": 4,
 "nbformat_minor": 0
}
